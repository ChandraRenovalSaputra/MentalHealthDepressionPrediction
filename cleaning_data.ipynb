{
  "cells": [
    {
      "cell_type": "code",
      "execution_count": 1,
      "metadata": {
        "id": "CM1lRPF-X-Xa"
      },
      "outputs": [],
      "source": [
        "import pandas as pd\n",
        "import matplotlib.pyplot as plt\n",
        "import seaborn as sns"
      ]
    },
    {
      "cell_type": "code",
      "execution_count": 2,
      "metadata": {
        "id": "ppRIPbhLYKdr"
      },
      "outputs": [],
      "source": [
        "df_train = pd.read_csv('./data/raw_data.csv')"
      ]
    },
    {
      "cell_type": "code",
      "execution_count": 3,
      "metadata": {
        "colab": {
          "base_uri": "https://localhost:8080/"
        },
        "id": "XRIQYjmziJxG",
        "outputId": "354c2f4a-c8b3-4834-fb07-8ab5a7aa37d1"
      },
      "outputs": [
        {
          "data": {
            "text/plain": [
              "array(['Chef', 'Teacher', nan, 'Business Analyst', 'Finanancial Analyst',\n",
              "       'Chemist', 'Electrician', 'Software Engineer', 'Data Scientist',\n",
              "       'Plumber', 'Marketing Manager', 'Accountant', 'Entrepreneur',\n",
              "       'HR Manager', 'UX/UI Designer', 'Content Writer',\n",
              "       'Educational Consultant', 'Civil Engineer', 'Manager',\n",
              "       'Pharmacist', 'Financial Analyst', 'Architect',\n",
              "       'Mechanical Engineer', 'Customer Support', 'Consultant', 'Judge',\n",
              "       'Researcher', 'Pilot', 'Graphic Designer', 'Travel Consultant',\n",
              "       'Digital Marketer', 'Lawyer', 'Research Analyst',\n",
              "       'Sales Executive', 'Doctor', 'Unemployed', 'Investment Banker',\n",
              "       'Family Consultant', 'B.Com', 'BE', 'Student', 'Yogesh', 'Dev',\n",
              "       'MBA', 'LLM', 'BCA', 'Academic', 'Profession', 'FamilyVirar',\n",
              "       'City Manager', 'BBA', 'Medical Doctor', 'Working Professional',\n",
              "       'MBBS', 'Patna', 'Unveil', 'B.Ed', 'Nagpur', 'Moderate', 'M.Ed',\n",
              "       'Analyst', 'Pranav', 'Visakhapatnam', 'PhD', 'Yuvraj'],\n",
              "      dtype=object)"
            ]
          },
          "execution_count": 3,
          "metadata": {},
          "output_type": "execute_result"
        }
      ],
      "source": [
        "df_train['Profession'].unique()"
      ]
    },
    {
      "cell_type": "markdown",
      "metadata": {
        "id": "N17gSrjjZvy1"
      },
      "source": [
        "# Preprocessing\n",
        "## cleaning data\n",
        "* handle missing value"
      ]
    },
    {
      "cell_type": "code",
      "execution_count": 4,
      "metadata": {
        "colab": {
          "base_uri": "https://localhost:8080/"
        },
        "id": "UkpmWesBZJov",
        "outputId": "7d246b72-47dd-4222-fb41-dbc7f541544d"
      },
      "outputs": [
        {
          "name": "stdout",
          "output_type": "stream",
          "text": [
            "<class 'pandas.core.frame.DataFrame'>\n",
            "RangeIndex: 140700 entries, 0 to 140699\n",
            "Data columns (total 20 columns):\n",
            " #   Column                                 Non-Null Count   Dtype  \n",
            "---  ------                                 --------------   -----  \n",
            " 0   id                                     140700 non-null  int64  \n",
            " 1   Name                                   140700 non-null  object \n",
            " 2   Gender                                 140700 non-null  object \n",
            " 3   Age                                    140700 non-null  float64\n",
            " 4   City                                   140700 non-null  object \n",
            " 5   Working Professional or Student        140700 non-null  object \n",
            " 6   Profession                             104070 non-null  object \n",
            " 7   Academic Pressure                      27897 non-null   float64\n",
            " 8   Work Pressure                          112782 non-null  float64\n",
            " 9   CGPA                                   27898 non-null   float64\n",
            " 10  Study Satisfaction                     27897 non-null   float64\n",
            " 11  Job Satisfaction                       112790 non-null  float64\n",
            " 12  Sleep Duration                         140700 non-null  object \n",
            " 13  Dietary Habits                         140696 non-null  object \n",
            " 14  Degree                                 140698 non-null  object \n",
            " 15  Have you ever had suicidal thoughts ?  140700 non-null  object \n",
            " 16  Work/Study Hours                       140700 non-null  float64\n",
            " 17  Financial Stress                       140696 non-null  float64\n",
            " 18  Family History of Mental Illness       140700 non-null  object \n",
            " 19  Depression                             140700 non-null  int64  \n",
            "dtypes: float64(8), int64(2), object(10)\n",
            "memory usage: 21.5+ MB\n"
          ]
        }
      ],
      "source": [
        "df_train.info()"
      ]
    },
    {
      "cell_type": "code",
      "execution_count": 5,
      "metadata": {
        "colab": {
          "base_uri": "https://localhost:8080/",
          "height": 704
        },
        "id": "YYQ8JTgKpoCC",
        "outputId": "0dde78e9-17e0-43eb-f3a9-980665518d98"
      },
      "outputs": [
        {
          "data": {
            "text/html": [
              "<div>\n",
              "<style scoped>\n",
              "    .dataframe tbody tr th:only-of-type {\n",
              "        vertical-align: middle;\n",
              "    }\n",
              "\n",
              "    .dataframe tbody tr th {\n",
              "        vertical-align: top;\n",
              "    }\n",
              "\n",
              "    .dataframe thead th {\n",
              "        text-align: right;\n",
              "    }\n",
              "</style>\n",
              "<table border=\"1\" class=\"dataframe\">\n",
              "  <thead>\n",
              "    <tr style=\"text-align: right;\">\n",
              "      <th></th>\n",
              "      <th>id</th>\n",
              "      <th>Name</th>\n",
              "      <th>Gender</th>\n",
              "      <th>Age</th>\n",
              "      <th>City</th>\n",
              "      <th>Working Professional or Student</th>\n",
              "      <th>Profession</th>\n",
              "      <th>Academic Pressure</th>\n",
              "      <th>Work Pressure</th>\n",
              "      <th>CGPA</th>\n",
              "      <th>Study Satisfaction</th>\n",
              "      <th>Job Satisfaction</th>\n",
              "      <th>Sleep Duration</th>\n",
              "      <th>Dietary Habits</th>\n",
              "      <th>Degree</th>\n",
              "      <th>Have you ever had suicidal thoughts ?</th>\n",
              "      <th>Work/Study Hours</th>\n",
              "      <th>Financial Stress</th>\n",
              "      <th>Family History of Mental Illness</th>\n",
              "      <th>Depression</th>\n",
              "    </tr>\n",
              "  </thead>\n",
              "  <tbody>\n",
              "    <tr>\n",
              "      <th>0</th>\n",
              "      <td>0</td>\n",
              "      <td>Aaradhya</td>\n",
              "      <td>Female</td>\n",
              "      <td>49.0</td>\n",
              "      <td>Ludhiana</td>\n",
              "      <td>Working Professional</td>\n",
              "      <td>Chef</td>\n",
              "      <td>NaN</td>\n",
              "      <td>5.0</td>\n",
              "      <td>NaN</td>\n",
              "      <td>NaN</td>\n",
              "      <td>2.0</td>\n",
              "      <td>More than 8 hours</td>\n",
              "      <td>Healthy</td>\n",
              "      <td>BHM</td>\n",
              "      <td>No</td>\n",
              "      <td>1.0</td>\n",
              "      <td>2.0</td>\n",
              "      <td>No</td>\n",
              "      <td>0</td>\n",
              "    </tr>\n",
              "    <tr>\n",
              "      <th>1</th>\n",
              "      <td>1</td>\n",
              "      <td>Vivan</td>\n",
              "      <td>Male</td>\n",
              "      <td>26.0</td>\n",
              "      <td>Varanasi</td>\n",
              "      <td>Working Professional</td>\n",
              "      <td>Teacher</td>\n",
              "      <td>NaN</td>\n",
              "      <td>4.0</td>\n",
              "      <td>NaN</td>\n",
              "      <td>NaN</td>\n",
              "      <td>3.0</td>\n",
              "      <td>Less than 5 hours</td>\n",
              "      <td>Unhealthy</td>\n",
              "      <td>LLB</td>\n",
              "      <td>Yes</td>\n",
              "      <td>7.0</td>\n",
              "      <td>3.0</td>\n",
              "      <td>No</td>\n",
              "      <td>1</td>\n",
              "    </tr>\n",
              "    <tr>\n",
              "      <th>2</th>\n",
              "      <td>2</td>\n",
              "      <td>Yuvraj</td>\n",
              "      <td>Male</td>\n",
              "      <td>33.0</td>\n",
              "      <td>Visakhapatnam</td>\n",
              "      <td>Student</td>\n",
              "      <td>NaN</td>\n",
              "      <td>5.0</td>\n",
              "      <td>NaN</td>\n",
              "      <td>8.97</td>\n",
              "      <td>2.0</td>\n",
              "      <td>NaN</td>\n",
              "      <td>5-6 hours</td>\n",
              "      <td>Healthy</td>\n",
              "      <td>B.Pharm</td>\n",
              "      <td>Yes</td>\n",
              "      <td>3.0</td>\n",
              "      <td>1.0</td>\n",
              "      <td>No</td>\n",
              "      <td>1</td>\n",
              "    </tr>\n",
              "    <tr>\n",
              "      <th>3</th>\n",
              "      <td>3</td>\n",
              "      <td>Yuvraj</td>\n",
              "      <td>Male</td>\n",
              "      <td>22.0</td>\n",
              "      <td>Mumbai</td>\n",
              "      <td>Working Professional</td>\n",
              "      <td>Teacher</td>\n",
              "      <td>NaN</td>\n",
              "      <td>5.0</td>\n",
              "      <td>NaN</td>\n",
              "      <td>NaN</td>\n",
              "      <td>1.0</td>\n",
              "      <td>Less than 5 hours</td>\n",
              "      <td>Moderate</td>\n",
              "      <td>BBA</td>\n",
              "      <td>Yes</td>\n",
              "      <td>10.0</td>\n",
              "      <td>1.0</td>\n",
              "      <td>Yes</td>\n",
              "      <td>1</td>\n",
              "    </tr>\n",
              "    <tr>\n",
              "      <th>4</th>\n",
              "      <td>4</td>\n",
              "      <td>Rhea</td>\n",
              "      <td>Female</td>\n",
              "      <td>30.0</td>\n",
              "      <td>Kanpur</td>\n",
              "      <td>Working Professional</td>\n",
              "      <td>Business Analyst</td>\n",
              "      <td>NaN</td>\n",
              "      <td>1.0</td>\n",
              "      <td>NaN</td>\n",
              "      <td>NaN</td>\n",
              "      <td>1.0</td>\n",
              "      <td>5-6 hours</td>\n",
              "      <td>Unhealthy</td>\n",
              "      <td>BBA</td>\n",
              "      <td>Yes</td>\n",
              "      <td>9.0</td>\n",
              "      <td>4.0</td>\n",
              "      <td>Yes</td>\n",
              "      <td>0</td>\n",
              "    </tr>\n",
              "    <tr>\n",
              "      <th>...</th>\n",
              "      <td>...</td>\n",
              "      <td>...</td>\n",
              "      <td>...</td>\n",
              "      <td>...</td>\n",
              "      <td>...</td>\n",
              "      <td>...</td>\n",
              "      <td>...</td>\n",
              "      <td>...</td>\n",
              "      <td>...</td>\n",
              "      <td>...</td>\n",
              "      <td>...</td>\n",
              "      <td>...</td>\n",
              "      <td>...</td>\n",
              "      <td>...</td>\n",
              "      <td>...</td>\n",
              "      <td>...</td>\n",
              "      <td>...</td>\n",
              "      <td>...</td>\n",
              "      <td>...</td>\n",
              "      <td>...</td>\n",
              "    </tr>\n",
              "    <tr>\n",
              "      <th>140695</th>\n",
              "      <td>140695</td>\n",
              "      <td>Vidya</td>\n",
              "      <td>Female</td>\n",
              "      <td>18.0</td>\n",
              "      <td>Ahmedabad</td>\n",
              "      <td>Working Professional</td>\n",
              "      <td>NaN</td>\n",
              "      <td>NaN</td>\n",
              "      <td>5.0</td>\n",
              "      <td>NaN</td>\n",
              "      <td>NaN</td>\n",
              "      <td>4.0</td>\n",
              "      <td>5-6 hours</td>\n",
              "      <td>Unhealthy</td>\n",
              "      <td>Class 12</td>\n",
              "      <td>No</td>\n",
              "      <td>2.0</td>\n",
              "      <td>4.0</td>\n",
              "      <td>Yes</td>\n",
              "      <td>1</td>\n",
              "    </tr>\n",
              "    <tr>\n",
              "      <th>140696</th>\n",
              "      <td>140696</td>\n",
              "      <td>Lata</td>\n",
              "      <td>Female</td>\n",
              "      <td>41.0</td>\n",
              "      <td>Hyderabad</td>\n",
              "      <td>Working Professional</td>\n",
              "      <td>Content Writer</td>\n",
              "      <td>NaN</td>\n",
              "      <td>5.0</td>\n",
              "      <td>NaN</td>\n",
              "      <td>NaN</td>\n",
              "      <td>4.0</td>\n",
              "      <td>7-8 hours</td>\n",
              "      <td>Moderate</td>\n",
              "      <td>B.Tech</td>\n",
              "      <td>Yes</td>\n",
              "      <td>6.0</td>\n",
              "      <td>5.0</td>\n",
              "      <td>Yes</td>\n",
              "      <td>0</td>\n",
              "    </tr>\n",
              "    <tr>\n",
              "      <th>140697</th>\n",
              "      <td>140697</td>\n",
              "      <td>Aanchal</td>\n",
              "      <td>Female</td>\n",
              "      <td>24.0</td>\n",
              "      <td>Kolkata</td>\n",
              "      <td>Working Professional</td>\n",
              "      <td>Marketing Manager</td>\n",
              "      <td>NaN</td>\n",
              "      <td>3.0</td>\n",
              "      <td>NaN</td>\n",
              "      <td>NaN</td>\n",
              "      <td>1.0</td>\n",
              "      <td>More than 8 hours</td>\n",
              "      <td>Moderate</td>\n",
              "      <td>B.Com</td>\n",
              "      <td>No</td>\n",
              "      <td>4.0</td>\n",
              "      <td>4.0</td>\n",
              "      <td>No</td>\n",
              "      <td>0</td>\n",
              "    </tr>\n",
              "    <tr>\n",
              "      <th>140698</th>\n",
              "      <td>140698</td>\n",
              "      <td>Prachi</td>\n",
              "      <td>Female</td>\n",
              "      <td>49.0</td>\n",
              "      <td>Srinagar</td>\n",
              "      <td>Working Professional</td>\n",
              "      <td>Plumber</td>\n",
              "      <td>NaN</td>\n",
              "      <td>5.0</td>\n",
              "      <td>NaN</td>\n",
              "      <td>NaN</td>\n",
              "      <td>2.0</td>\n",
              "      <td>5-6 hours</td>\n",
              "      <td>Moderate</td>\n",
              "      <td>ME</td>\n",
              "      <td>Yes</td>\n",
              "      <td>10.0</td>\n",
              "      <td>1.0</td>\n",
              "      <td>No</td>\n",
              "      <td>0</td>\n",
              "    </tr>\n",
              "    <tr>\n",
              "      <th>140699</th>\n",
              "      <td>140699</td>\n",
              "      <td>Sai</td>\n",
              "      <td>Male</td>\n",
              "      <td>27.0</td>\n",
              "      <td>Patna</td>\n",
              "      <td>Student</td>\n",
              "      <td>NaN</td>\n",
              "      <td>4.0</td>\n",
              "      <td>NaN</td>\n",
              "      <td>9.24</td>\n",
              "      <td>1.0</td>\n",
              "      <td>NaN</td>\n",
              "      <td>Less than 5 hours</td>\n",
              "      <td>Healthy</td>\n",
              "      <td>BCA</td>\n",
              "      <td>Yes</td>\n",
              "      <td>2.0</td>\n",
              "      <td>3.0</td>\n",
              "      <td>Yes</td>\n",
              "      <td>1</td>\n",
              "    </tr>\n",
              "  </tbody>\n",
              "</table>\n",
              "<p>140700 rows × 20 columns</p>\n",
              "</div>"
            ],
            "text/plain": [
              "            id      Name  Gender   Age           City  \\\n",
              "0            0  Aaradhya  Female  49.0       Ludhiana   \n",
              "1            1     Vivan    Male  26.0       Varanasi   \n",
              "2            2    Yuvraj    Male  33.0  Visakhapatnam   \n",
              "3            3    Yuvraj    Male  22.0         Mumbai   \n",
              "4            4      Rhea  Female  30.0         Kanpur   \n",
              "...        ...       ...     ...   ...            ...   \n",
              "140695  140695     Vidya  Female  18.0      Ahmedabad   \n",
              "140696  140696      Lata  Female  41.0      Hyderabad   \n",
              "140697  140697   Aanchal  Female  24.0        Kolkata   \n",
              "140698  140698    Prachi  Female  49.0       Srinagar   \n",
              "140699  140699       Sai    Male  27.0          Patna   \n",
              "\n",
              "       Working Professional or Student         Profession  Academic Pressure  \\\n",
              "0                 Working Professional               Chef                NaN   \n",
              "1                 Working Professional            Teacher                NaN   \n",
              "2                              Student                NaN                5.0   \n",
              "3                 Working Professional            Teacher                NaN   \n",
              "4                 Working Professional   Business Analyst                NaN   \n",
              "...                                ...                ...                ...   \n",
              "140695            Working Professional                NaN                NaN   \n",
              "140696            Working Professional     Content Writer                NaN   \n",
              "140697            Working Professional  Marketing Manager                NaN   \n",
              "140698            Working Professional            Plumber                NaN   \n",
              "140699                         Student                NaN                4.0   \n",
              "\n",
              "        Work Pressure  CGPA  Study Satisfaction  Job Satisfaction  \\\n",
              "0                 5.0   NaN                 NaN               2.0   \n",
              "1                 4.0   NaN                 NaN               3.0   \n",
              "2                 NaN  8.97                 2.0               NaN   \n",
              "3                 5.0   NaN                 NaN               1.0   \n",
              "4                 1.0   NaN                 NaN               1.0   \n",
              "...               ...   ...                 ...               ...   \n",
              "140695            5.0   NaN                 NaN               4.0   \n",
              "140696            5.0   NaN                 NaN               4.0   \n",
              "140697            3.0   NaN                 NaN               1.0   \n",
              "140698            5.0   NaN                 NaN               2.0   \n",
              "140699            NaN  9.24                 1.0               NaN   \n",
              "\n",
              "           Sleep Duration Dietary Habits    Degree  \\\n",
              "0       More than 8 hours        Healthy       BHM   \n",
              "1       Less than 5 hours      Unhealthy       LLB   \n",
              "2               5-6 hours        Healthy   B.Pharm   \n",
              "3       Less than 5 hours       Moderate       BBA   \n",
              "4               5-6 hours      Unhealthy       BBA   \n",
              "...                   ...            ...       ...   \n",
              "140695          5-6 hours      Unhealthy  Class 12   \n",
              "140696          7-8 hours       Moderate    B.Tech   \n",
              "140697  More than 8 hours       Moderate     B.Com   \n",
              "140698          5-6 hours       Moderate        ME   \n",
              "140699  Less than 5 hours        Healthy       BCA   \n",
              "\n",
              "       Have you ever had suicidal thoughts ?  Work/Study Hours  \\\n",
              "0                                         No               1.0   \n",
              "1                                        Yes               7.0   \n",
              "2                                        Yes               3.0   \n",
              "3                                        Yes              10.0   \n",
              "4                                        Yes               9.0   \n",
              "...                                      ...               ...   \n",
              "140695                                    No               2.0   \n",
              "140696                                   Yes               6.0   \n",
              "140697                                    No               4.0   \n",
              "140698                                   Yes              10.0   \n",
              "140699                                   Yes               2.0   \n",
              "\n",
              "        Financial Stress Family History of Mental Illness  Depression  \n",
              "0                    2.0                               No           0  \n",
              "1                    3.0                               No           1  \n",
              "2                    1.0                               No           1  \n",
              "3                    1.0                              Yes           1  \n",
              "4                    4.0                              Yes           0  \n",
              "...                  ...                              ...         ...  \n",
              "140695               4.0                              Yes           1  \n",
              "140696               5.0                              Yes           0  \n",
              "140697               4.0                               No           0  \n",
              "140698               1.0                               No           0  \n",
              "140699               3.0                              Yes           1  \n",
              "\n",
              "[140700 rows x 20 columns]"
            ]
          },
          "execution_count": 5,
          "metadata": {},
          "output_type": "execute_result"
        }
      ],
      "source": [
        "df_train"
      ]
    },
    {
      "cell_type": "code",
      "execution_count": 6,
      "metadata": {
        "colab": {
          "base_uri": "https://localhost:8080/",
          "height": 711
        },
        "id": "2yrx-xsfZsIN",
        "outputId": "3cde6682-b07e-4042-84f8-60400b91c9a9"
      },
      "outputs": [
        {
          "data": {
            "text/plain": [
              "id                                            0\n",
              "Name                                          0\n",
              "Gender                                        0\n",
              "Age                                           0\n",
              "City                                          0\n",
              "Working Professional or Student               0\n",
              "Profession                                36630\n",
              "Academic Pressure                        112803\n",
              "Work Pressure                             27918\n",
              "CGPA                                     112802\n",
              "Study Satisfaction                       112803\n",
              "Job Satisfaction                          27910\n",
              "Sleep Duration                                0\n",
              "Dietary Habits                                4\n",
              "Degree                                        2\n",
              "Have you ever had suicidal thoughts ?         0\n",
              "Work/Study Hours                              0\n",
              "Financial Stress                              4\n",
              "Family History of Mental Illness              0\n",
              "Depression                                    0\n",
              "dtype: int64"
            ]
          },
          "execution_count": 6,
          "metadata": {},
          "output_type": "execute_result"
        }
      ],
      "source": [
        "df_train.isna().sum()"
      ]
    },
    {
      "cell_type": "code",
      "execution_count": 7,
      "metadata": {
        "id": "Lpk2XcISaXkn"
      },
      "outputs": [],
      "source": [
        "profession_mode = df_train['Profession'].mode()[0] # mendapatkan nilai modus profession\n",
        "df_train['Profession'] = df_train['Profession'].fillna(profession_mode)"
      ]
    },
    {
      "cell_type": "code",
      "execution_count": 8,
      "metadata": {
        "colab": {
          "base_uri": "https://localhost:8080/",
          "height": 711
        },
        "id": "BvaOLHcGbgeZ",
        "outputId": "219901d8-d252-45ca-940f-752c60122b0c"
      },
      "outputs": [
        {
          "data": {
            "text/plain": [
              "id                                            0\n",
              "Name                                          0\n",
              "Gender                                        0\n",
              "Age                                           0\n",
              "City                                          0\n",
              "Working Professional or Student               0\n",
              "Profession                                    0\n",
              "Academic Pressure                        112803\n",
              "Work Pressure                             27918\n",
              "CGPA                                     112802\n",
              "Study Satisfaction                       112803\n",
              "Job Satisfaction                          27910\n",
              "Sleep Duration                                0\n",
              "Dietary Habits                                4\n",
              "Degree                                        2\n",
              "Have you ever had suicidal thoughts ?         0\n",
              "Work/Study Hours                              0\n",
              "Financial Stress                              4\n",
              "Family History of Mental Illness              0\n",
              "Depression                                    0\n",
              "dtype: int64"
            ]
          },
          "execution_count": 8,
          "metadata": {},
          "output_type": "execute_result"
        }
      ],
      "source": [
        "df_train.isna().sum()"
      ]
    },
    {
      "cell_type": "markdown",
      "metadata": {
        "id": "M1Jk_9bDbtyX"
      },
      "source": [
        "## handling missing data Academic Pressure\n",
        "* karena gada outlier, handle missing value menggunakan mean adalah yg terbaik\n",
        "* namun karena datanya termasuk ordinal categoic yg memiliki skala likert (1-5) jadi menggunakan median\n",
        "* modus juga bagus untuk case ini karena bisa menangani data categoric"
      ]
    },
    {
      "cell_type": "code",
      "execution_count": 9,
      "metadata": {
        "id": "WAXRae_1dbb0"
      },
      "outputs": [],
      "source": [
        "academic_pressure_median = int(df_train['Academic Pressure'].median())\n",
        "df_train['Academic Pressure'] = df_train['Academic Pressure'].fillna(academic_pressure_median)"
      ]
    },
    {
      "cell_type": "markdown",
      "metadata": {
        "id": "6ospA2R6gjQV"
      },
      "source": [
        "## handle  missing value work pressure\n",
        "* sama kaya kolom sebelumnya"
      ]
    },
    {
      "cell_type": "code",
      "execution_count": 10,
      "metadata": {
        "colab": {
          "base_uri": "https://localhost:8080/",
          "height": 335
        },
        "id": "-8rq2jfAeyE7",
        "outputId": "69264d41-40c9-45c4-faa0-f18e19d4fa4c"
      },
      "outputs": [
        {
          "data": {
            "text/plain": [
              "count    112782.000000\n",
              "mean          2.998998\n",
              "std           1.405771\n",
              "min           1.000000\n",
              "25%           2.000000\n",
              "50%           3.000000\n",
              "75%           4.000000\n",
              "max           5.000000\n",
              "Name: Work Pressure, dtype: float64"
            ]
          },
          "execution_count": 10,
          "metadata": {},
          "output_type": "execute_result"
        }
      ],
      "source": [
        "df_train['Work Pressure'].describe()"
      ]
    },
    {
      "cell_type": "code",
      "execution_count": 11,
      "metadata": {
        "id": "gKwv4QAIs24R"
      },
      "outputs": [],
      "source": [
        "work_pressure_median = df_train['Work Pressure'].median()\n",
        "df_train['Work Pressure'] = df_train['Work Pressure'].fillna(work_pressure_median)"
      ]
    },
    {
      "cell_type": "markdown",
      "metadata": {
        "id": "dWKBgEA_umYY"
      },
      "source": [
        "## handle missing value CGPA\n",
        "* ini adalah data ordinal catogoric karena merepresentasikan urutan 1 - 10\n",
        "* untuk handle ini menggunakan median yg paling baik"
      ]
    },
    {
      "cell_type": "code",
      "execution_count": 12,
      "metadata": {
        "colab": {
          "base_uri": "https://localhost:8080/",
          "height": 335
        },
        "id": "BuxHMeXtuW-t",
        "outputId": "c1b5da86-a9ba-4d83-8d1c-ede367d63e0b"
      },
      "outputs": [
        {
          "data": {
            "text/plain": [
              "count    27898.000000\n",
              "mean         7.658636\n",
              "std          1.464466\n",
              "min          5.030000\n",
              "25%          6.290000\n",
              "50%          7.770000\n",
              "75%          8.920000\n",
              "max         10.000000\n",
              "Name: CGPA, dtype: float64"
            ]
          },
          "execution_count": 12,
          "metadata": {},
          "output_type": "execute_result"
        }
      ],
      "source": [
        "df_train['CGPA'].describe()"
      ]
    },
    {
      "cell_type": "code",
      "execution_count": 13,
      "metadata": {
        "id": "AUWokaR0yO4O"
      },
      "outputs": [],
      "source": [
        "CGPA_median = df_train['CGPA'].median()\n",
        "df_train['CGPA'] = df_train['CGPA'].fillna(CGPA_median)"
      ]
    },
    {
      "cell_type": "code",
      "execution_count": 14,
      "metadata": {
        "colab": {
          "base_uri": "https://localhost:8080/",
          "height": 458
        },
        "id": "GLmoLZlw0NuU",
        "outputId": "78ea9ee8-cb98-4d89-fa08-0ecff33663d5"
      },
      "outputs": [
        {
          "data": {
            "text/plain": [
              "0         7.77\n",
              "1         7.77\n",
              "2         8.97\n",
              "3         7.77\n",
              "4         7.77\n",
              "          ... \n",
              "140695    7.77\n",
              "140696    7.77\n",
              "140697    7.77\n",
              "140698    7.77\n",
              "140699    9.24\n",
              "Name: CGPA, Length: 140700, dtype: float64"
            ]
          },
          "execution_count": 14,
          "metadata": {},
          "output_type": "execute_result"
        }
      ],
      "source": [
        "df_train['CGPA']"
      ]
    },
    {
      "cell_type": "code",
      "execution_count": 15,
      "metadata": {
        "colab": {
          "base_uri": "https://localhost:8080/",
          "height": 300
        },
        "id": "q4FXmJQ50QOt",
        "outputId": "ca86c400-4f52-4ec2-9dc8-ed8099cb0fec"
      },
      "outputs": [
        {
          "data": {
            "text/html": [
              "<div>\n",
              "<style scoped>\n",
              "    .dataframe tbody tr th:only-of-type {\n",
              "        vertical-align: middle;\n",
              "    }\n",
              "\n",
              "    .dataframe tbody tr th {\n",
              "        vertical-align: top;\n",
              "    }\n",
              "\n",
              "    .dataframe thead th {\n",
              "        text-align: right;\n",
              "    }\n",
              "</style>\n",
              "<table border=\"1\" class=\"dataframe\">\n",
              "  <thead>\n",
              "    <tr style=\"text-align: right;\">\n",
              "      <th></th>\n",
              "      <th>id</th>\n",
              "      <th>Age</th>\n",
              "      <th>Academic Pressure</th>\n",
              "      <th>Work Pressure</th>\n",
              "      <th>CGPA</th>\n",
              "      <th>Study Satisfaction</th>\n",
              "      <th>Job Satisfaction</th>\n",
              "      <th>Work/Study Hours</th>\n",
              "      <th>Financial Stress</th>\n",
              "      <th>Depression</th>\n",
              "    </tr>\n",
              "  </thead>\n",
              "  <tbody>\n",
              "    <tr>\n",
              "      <th>count</th>\n",
              "      <td>140700.000000</td>\n",
              "      <td>140700.000000</td>\n",
              "      <td>140700.000000</td>\n",
              "      <td>140700.000000</td>\n",
              "      <td>140700.000000</td>\n",
              "      <td>27897.000000</td>\n",
              "      <td>112790.000000</td>\n",
              "      <td>140700.000000</td>\n",
              "      <td>140696.000000</td>\n",
              "      <td>140700.000000</td>\n",
              "    </tr>\n",
              "    <tr>\n",
              "      <th>mean</th>\n",
              "      <td>70349.500000</td>\n",
              "      <td>40.388621</td>\n",
              "      <td>3.028209</td>\n",
              "      <td>2.999197</td>\n",
              "      <td>7.747919</td>\n",
              "      <td>2.944940</td>\n",
              "      <td>2.974404</td>\n",
              "      <td>6.252679</td>\n",
              "      <td>2.988983</td>\n",
              "      <td>0.181713</td>\n",
              "    </tr>\n",
              "    <tr>\n",
              "      <th>std</th>\n",
              "      <td>40616.735775</td>\n",
              "      <td>12.384099</td>\n",
              "      <td>0.617291</td>\n",
              "      <td>1.258598</td>\n",
              "      <td>0.653607</td>\n",
              "      <td>1.360197</td>\n",
              "      <td>1.416078</td>\n",
              "      <td>3.853615</td>\n",
              "      <td>1.413633</td>\n",
              "      <td>0.385609</td>\n",
              "    </tr>\n",
              "    <tr>\n",
              "      <th>min</th>\n",
              "      <td>0.000000</td>\n",
              "      <td>18.000000</td>\n",
              "      <td>1.000000</td>\n",
              "      <td>1.000000</td>\n",
              "      <td>5.030000</td>\n",
              "      <td>1.000000</td>\n",
              "      <td>1.000000</td>\n",
              "      <td>0.000000</td>\n",
              "      <td>1.000000</td>\n",
              "      <td>0.000000</td>\n",
              "    </tr>\n",
              "    <tr>\n",
              "      <th>25%</th>\n",
              "      <td>35174.750000</td>\n",
              "      <td>29.000000</td>\n",
              "      <td>3.000000</td>\n",
              "      <td>2.000000</td>\n",
              "      <td>7.770000</td>\n",
              "      <td>2.000000</td>\n",
              "      <td>2.000000</td>\n",
              "      <td>3.000000</td>\n",
              "      <td>2.000000</td>\n",
              "      <td>0.000000</td>\n",
              "    </tr>\n",
              "    <tr>\n",
              "      <th>50%</th>\n",
              "      <td>70349.500000</td>\n",
              "      <td>42.000000</td>\n",
              "      <td>3.000000</td>\n",
              "      <td>3.000000</td>\n",
              "      <td>7.770000</td>\n",
              "      <td>3.000000</td>\n",
              "      <td>3.000000</td>\n",
              "      <td>6.000000</td>\n",
              "      <td>3.000000</td>\n",
              "      <td>0.000000</td>\n",
              "    </tr>\n",
              "    <tr>\n",
              "      <th>75%</th>\n",
              "      <td>105524.250000</td>\n",
              "      <td>51.000000</td>\n",
              "      <td>3.000000</td>\n",
              "      <td>4.000000</td>\n",
              "      <td>7.770000</td>\n",
              "      <td>4.000000</td>\n",
              "      <td>4.000000</td>\n",
              "      <td>10.000000</td>\n",
              "      <td>4.000000</td>\n",
              "      <td>0.000000</td>\n",
              "    </tr>\n",
              "    <tr>\n",
              "      <th>max</th>\n",
              "      <td>140699.000000</td>\n",
              "      <td>60.000000</td>\n",
              "      <td>5.000000</td>\n",
              "      <td>5.000000</td>\n",
              "      <td>10.000000</td>\n",
              "      <td>5.000000</td>\n",
              "      <td>5.000000</td>\n",
              "      <td>12.000000</td>\n",
              "      <td>5.000000</td>\n",
              "      <td>1.000000</td>\n",
              "    </tr>\n",
              "  </tbody>\n",
              "</table>\n",
              "</div>"
            ],
            "text/plain": [
              "                  id            Age  Academic Pressure  Work Pressure  \\\n",
              "count  140700.000000  140700.000000      140700.000000  140700.000000   \n",
              "mean    70349.500000      40.388621           3.028209       2.999197   \n",
              "std     40616.735775      12.384099           0.617291       1.258598   \n",
              "min         0.000000      18.000000           1.000000       1.000000   \n",
              "25%     35174.750000      29.000000           3.000000       2.000000   \n",
              "50%     70349.500000      42.000000           3.000000       3.000000   \n",
              "75%    105524.250000      51.000000           3.000000       4.000000   \n",
              "max    140699.000000      60.000000           5.000000       5.000000   \n",
              "\n",
              "                CGPA  Study Satisfaction  Job Satisfaction  Work/Study Hours  \\\n",
              "count  140700.000000        27897.000000     112790.000000     140700.000000   \n",
              "mean        7.747919            2.944940          2.974404          6.252679   \n",
              "std         0.653607            1.360197          1.416078          3.853615   \n",
              "min         5.030000            1.000000          1.000000          0.000000   \n",
              "25%         7.770000            2.000000          2.000000          3.000000   \n",
              "50%         7.770000            3.000000          3.000000          6.000000   \n",
              "75%         7.770000            4.000000          4.000000         10.000000   \n",
              "max        10.000000            5.000000          5.000000         12.000000   \n",
              "\n",
              "       Financial Stress     Depression  \n",
              "count     140696.000000  140700.000000  \n",
              "mean           2.988983       0.181713  \n",
              "std            1.413633       0.385609  \n",
              "min            1.000000       0.000000  \n",
              "25%            2.000000       0.000000  \n",
              "50%            3.000000       0.000000  \n",
              "75%            4.000000       0.000000  \n",
              "max            5.000000       1.000000  "
            ]
          },
          "execution_count": 15,
          "metadata": {},
          "output_type": "execute_result"
        }
      ],
      "source": [
        "df_train.describe()"
      ]
    },
    {
      "cell_type": "code",
      "execution_count": 16,
      "metadata": {
        "colab": {
          "base_uri": "https://localhost:8080/",
          "height": 711
        },
        "id": "MWiTjabD1Q3m",
        "outputId": "ac7e23ac-989d-4515-9007-a34ebcd5b749"
      },
      "outputs": [
        {
          "data": {
            "text/plain": [
              "id                                            0\n",
              "Name                                          0\n",
              "Gender                                        0\n",
              "Age                                           0\n",
              "City                                          0\n",
              "Working Professional or Student               0\n",
              "Profession                                    0\n",
              "Academic Pressure                             0\n",
              "Work Pressure                                 0\n",
              "CGPA                                          0\n",
              "Study Satisfaction                       112803\n",
              "Job Satisfaction                          27910\n",
              "Sleep Duration                                0\n",
              "Dietary Habits                                4\n",
              "Degree                                        2\n",
              "Have you ever had suicidal thoughts ?         0\n",
              "Work/Study Hours                              0\n",
              "Financial Stress                              4\n",
              "Family History of Mental Illness              0\n",
              "Depression                                    0\n",
              "dtype: int64"
            ]
          },
          "execution_count": 16,
          "metadata": {},
          "output_type": "execute_result"
        }
      ],
      "source": [
        "df_train.isna().sum()"
      ]
    },
    {
      "cell_type": "markdown",
      "metadata": {
        "id": "yN1FYGWP2G8F"
      },
      "source": [
        "## handle missing value Study Satisfaction\n",
        "* alasan menggunakan median sama dengan kolom yg lain yaitu karena datanya ordinal"
      ]
    },
    {
      "cell_type": "code",
      "execution_count": 17,
      "metadata": {
        "colab": {
          "base_uri": "https://localhost:8080/",
          "height": 335
        },
        "id": "al1-JqyO2J23",
        "outputId": "af5fd885-949c-4ce6-91a8-f341a73a1a8a"
      },
      "outputs": [
        {
          "data": {
            "text/plain": [
              "count    27897.000000\n",
              "mean         2.944940\n",
              "std          1.360197\n",
              "min          1.000000\n",
              "25%          2.000000\n",
              "50%          3.000000\n",
              "75%          4.000000\n",
              "max          5.000000\n",
              "Name: Study Satisfaction, dtype: float64"
            ]
          },
          "execution_count": 17,
          "metadata": {},
          "output_type": "execute_result"
        }
      ],
      "source": [
        "df_train['Study Satisfaction'].describe()"
      ]
    },
    {
      "cell_type": "code",
      "execution_count": 18,
      "metadata": {
        "id": "P2eWJm4F2koF"
      },
      "outputs": [],
      "source": [
        "study_satisfaction_median = df_train['Study Satisfaction'].median()\n",
        "df_train['Study Satisfaction'] = df_train['Study Satisfaction'].fillna(study_satisfaction_median)"
      ]
    },
    {
      "cell_type": "markdown",
      "metadata": {
        "id": "x0sGceq03RGi"
      },
      "source": [
        "## handle missing value Job Satisfaction"
      ]
    },
    {
      "cell_type": "code",
      "execution_count": 19,
      "metadata": {
        "colab": {
          "base_uri": "https://localhost:8080/",
          "height": 335
        },
        "id": "4x6paFMo3av1",
        "outputId": "4de513ad-ab2d-46f7-8799-ecaed5840835"
      },
      "outputs": [
        {
          "data": {
            "text/plain": [
              "count    112790.000000\n",
              "mean          2.974404\n",
              "std           1.416078\n",
              "min           1.000000\n",
              "25%           2.000000\n",
              "50%           3.000000\n",
              "75%           4.000000\n",
              "max           5.000000\n",
              "Name: Job Satisfaction, dtype: float64"
            ]
          },
          "execution_count": 19,
          "metadata": {},
          "output_type": "execute_result"
        }
      ],
      "source": [
        "df_train['Job Satisfaction'].describe()"
      ]
    },
    {
      "cell_type": "code",
      "execution_count": 20,
      "metadata": {
        "colab": {
          "base_uri": "https://localhost:8080/",
          "height": 335
        },
        "id": "08V5oN5s3wsO",
        "outputId": "c527e88f-6d89-4dbf-9a01-0d4ff4f6d5ca"
      },
      "outputs": [
        {
          "data": {
            "text/plain": [
              "count    112790.000000\n",
              "mean          2.974404\n",
              "std           1.416078\n",
              "min           1.000000\n",
              "25%           2.000000\n",
              "50%           3.000000\n",
              "75%           4.000000\n",
              "max           5.000000\n",
              "Name: Job Satisfaction, dtype: float64"
            ]
          },
          "execution_count": 20,
          "metadata": {},
          "output_type": "execute_result"
        }
      ],
      "source": [
        "df_train['Job Satisfaction'].describe()"
      ]
    },
    {
      "cell_type": "code",
      "execution_count": 21,
      "metadata": {
        "id": "p1kbFJul3nSo"
      },
      "outputs": [],
      "source": [
        "job_satisfaction_median = df_train['Job Satisfaction'].median()\n",
        "df_train['Job Satisfaction'] = df_train['Job Satisfaction'].fillna(job_satisfaction_median)"
      ]
    },
    {
      "cell_type": "markdown",
      "metadata": {
        "id": "Cfud8PW36CxN"
      },
      "source": [
        "## handling missing value financial stress"
      ]
    },
    {
      "cell_type": "code",
      "execution_count": 22,
      "metadata": {
        "id": "uj8tab6P5y18"
      },
      "outputs": [],
      "source": [
        "financial_stress_median = df_train['Financial Stress'].median()\n",
        "df_train['Financial Stress'] = df_train['Financial Stress'].fillna(financial_stress_median)"
      ]
    },
    {
      "cell_type": "code",
      "execution_count": 23,
      "metadata": {
        "colab": {
          "base_uri": "https://localhost:8080/",
          "height": 335
        },
        "id": "Vm2j14vB6O3q",
        "outputId": "b768ba89-6eda-4128-bc81-2947532aa22e"
      },
      "outputs": [
        {
          "data": {
            "text/plain": [
              "count    140700.000000\n",
              "mean          2.988984\n",
              "std           1.413613\n",
              "min           1.000000\n",
              "25%           2.000000\n",
              "50%           3.000000\n",
              "75%           4.000000\n",
              "max           5.000000\n",
              "Name: Financial Stress, dtype: float64"
            ]
          },
          "execution_count": 23,
          "metadata": {},
          "output_type": "execute_result"
        }
      ],
      "source": [
        "df_train['Financial Stress'].describe()"
      ]
    },
    {
      "cell_type": "markdown",
      "metadata": {
        "id": "p9vFEEep4GBm"
      },
      "source": [
        "## handling missing value Dietary Habits\n",
        "* menggunakan modus karena datanya categoric yg tidak ordinal"
      ]
    },
    {
      "cell_type": "code",
      "execution_count": 24,
      "metadata": {
        "id": "BXiwP2VN4MzT"
      },
      "outputs": [],
      "source": [
        "dietary_habits_mode = df_train['Dietary Habits'].mode()[0]\n",
        "df_train['Dietary Habits'] = df_train['Dietary Habits'].fillna(dietary_habits_mode)"
      ]
    },
    {
      "cell_type": "markdown",
      "metadata": {
        "id": "lunuZlJI4Uur"
      },
      "source": [
        "## handling missing value Degree\n",
        "* menggunakan modus karena datanya categoric yg tidak ordinal"
      ]
    },
    {
      "cell_type": "code",
      "execution_count": 25,
      "metadata": {
        "id": "EdPqTPAu5EfS"
      },
      "outputs": [],
      "source": [
        "degree_mode = df_train['Degree'].mode()[0]\n",
        "df_train['Degree'] = df_train['Degree'].fillna(degree_mode)"
      ]
    },
    {
      "cell_type": "code",
      "execution_count": 26,
      "metadata": {
        "colab": {
          "base_uri": "https://localhost:8080/",
          "height": 335
        },
        "id": "0idojLpZ5pwo",
        "outputId": "2a5d29c3-f2ba-4e80-9997-84ddefebd21a"
      },
      "outputs": [
        {
          "data": {
            "text/plain": [
              "count    140700.000000\n",
              "mean          2.988984\n",
              "std           1.413613\n",
              "min           1.000000\n",
              "25%           2.000000\n",
              "50%           3.000000\n",
              "75%           4.000000\n",
              "max           5.000000\n",
              "Name: Financial Stress, dtype: float64"
            ]
          },
          "execution_count": 26,
          "metadata": {},
          "output_type": "execute_result"
        }
      ],
      "source": [
        "df_train['Financial Stress'].describe()"
      ]
    },
    {
      "cell_type": "markdown",
      "metadata": {
        "id": "KL3bE7XW5Lce"
      },
      "source": [
        "## cek missing value"
      ]
    },
    {
      "cell_type": "code",
      "execution_count": 27,
      "metadata": {
        "colab": {
          "base_uri": "https://localhost:8080/",
          "height": 711
        },
        "id": "7VYH9CLN5iRr",
        "outputId": "b2fbb66b-64f2-4c6a-854c-7697a1af7380"
      },
      "outputs": [
        {
          "data": {
            "text/plain": [
              "id                                       0\n",
              "Name                                     0\n",
              "Gender                                   0\n",
              "Age                                      0\n",
              "City                                     0\n",
              "Working Professional or Student          0\n",
              "Profession                               0\n",
              "Academic Pressure                        0\n",
              "Work Pressure                            0\n",
              "CGPA                                     0\n",
              "Study Satisfaction                       0\n",
              "Job Satisfaction                         0\n",
              "Sleep Duration                           0\n",
              "Dietary Habits                           0\n",
              "Degree                                   0\n",
              "Have you ever had suicidal thoughts ?    0\n",
              "Work/Study Hours                         0\n",
              "Financial Stress                         0\n",
              "Family History of Mental Illness         0\n",
              "Depression                               0\n",
              "dtype: int64"
            ]
          },
          "execution_count": 27,
          "metadata": {},
          "output_type": "execute_result"
        }
      ],
      "source": [
        "df_train.isna().sum()"
      ]
    },
    {
      "cell_type": "markdown",
      "metadata": {
        "id": "_PoGBvcD5mDs"
      },
      "source": [
        "## mengubah data type yg tidak sesuai"
      ]
    },
    {
      "cell_type": "code",
      "execution_count": 28,
      "metadata": {
        "colab": {
          "base_uri": "https://localhost:8080/",
          "height": 704
        },
        "id": "ORtsGYk86hsx",
        "outputId": "f6768c43-efb6-4ca7-dee5-317c259db3bd"
      },
      "outputs": [
        {
          "data": {
            "text/html": [
              "<div>\n",
              "<style scoped>\n",
              "    .dataframe tbody tr th:only-of-type {\n",
              "        vertical-align: middle;\n",
              "    }\n",
              "\n",
              "    .dataframe tbody tr th {\n",
              "        vertical-align: top;\n",
              "    }\n",
              "\n",
              "    .dataframe thead th {\n",
              "        text-align: right;\n",
              "    }\n",
              "</style>\n",
              "<table border=\"1\" class=\"dataframe\">\n",
              "  <thead>\n",
              "    <tr style=\"text-align: right;\">\n",
              "      <th></th>\n",
              "      <th>id</th>\n",
              "      <th>Name</th>\n",
              "      <th>Gender</th>\n",
              "      <th>Age</th>\n",
              "      <th>City</th>\n",
              "      <th>Working Professional or Student</th>\n",
              "      <th>Profession</th>\n",
              "      <th>Academic Pressure</th>\n",
              "      <th>Work Pressure</th>\n",
              "      <th>CGPA</th>\n",
              "      <th>Study Satisfaction</th>\n",
              "      <th>Job Satisfaction</th>\n",
              "      <th>Sleep Duration</th>\n",
              "      <th>Dietary Habits</th>\n",
              "      <th>Degree</th>\n",
              "      <th>Have you ever had suicidal thoughts ?</th>\n",
              "      <th>Work/Study Hours</th>\n",
              "      <th>Financial Stress</th>\n",
              "      <th>Family History of Mental Illness</th>\n",
              "      <th>Depression</th>\n",
              "    </tr>\n",
              "  </thead>\n",
              "  <tbody>\n",
              "    <tr>\n",
              "      <th>0</th>\n",
              "      <td>0</td>\n",
              "      <td>Aaradhya</td>\n",
              "      <td>Female</td>\n",
              "      <td>49.0</td>\n",
              "      <td>Ludhiana</td>\n",
              "      <td>Working Professional</td>\n",
              "      <td>Chef</td>\n",
              "      <td>3.0</td>\n",
              "      <td>5.0</td>\n",
              "      <td>7.77</td>\n",
              "      <td>3.0</td>\n",
              "      <td>2.0</td>\n",
              "      <td>More than 8 hours</td>\n",
              "      <td>Healthy</td>\n",
              "      <td>BHM</td>\n",
              "      <td>No</td>\n",
              "      <td>1.0</td>\n",
              "      <td>2.0</td>\n",
              "      <td>No</td>\n",
              "      <td>0</td>\n",
              "    </tr>\n",
              "    <tr>\n",
              "      <th>1</th>\n",
              "      <td>1</td>\n",
              "      <td>Vivan</td>\n",
              "      <td>Male</td>\n",
              "      <td>26.0</td>\n",
              "      <td>Varanasi</td>\n",
              "      <td>Working Professional</td>\n",
              "      <td>Teacher</td>\n",
              "      <td>3.0</td>\n",
              "      <td>4.0</td>\n",
              "      <td>7.77</td>\n",
              "      <td>3.0</td>\n",
              "      <td>3.0</td>\n",
              "      <td>Less than 5 hours</td>\n",
              "      <td>Unhealthy</td>\n",
              "      <td>LLB</td>\n",
              "      <td>Yes</td>\n",
              "      <td>7.0</td>\n",
              "      <td>3.0</td>\n",
              "      <td>No</td>\n",
              "      <td>1</td>\n",
              "    </tr>\n",
              "    <tr>\n",
              "      <th>2</th>\n",
              "      <td>2</td>\n",
              "      <td>Yuvraj</td>\n",
              "      <td>Male</td>\n",
              "      <td>33.0</td>\n",
              "      <td>Visakhapatnam</td>\n",
              "      <td>Student</td>\n",
              "      <td>Teacher</td>\n",
              "      <td>5.0</td>\n",
              "      <td>3.0</td>\n",
              "      <td>8.97</td>\n",
              "      <td>2.0</td>\n",
              "      <td>3.0</td>\n",
              "      <td>5-6 hours</td>\n",
              "      <td>Healthy</td>\n",
              "      <td>B.Pharm</td>\n",
              "      <td>Yes</td>\n",
              "      <td>3.0</td>\n",
              "      <td>1.0</td>\n",
              "      <td>No</td>\n",
              "      <td>1</td>\n",
              "    </tr>\n",
              "    <tr>\n",
              "      <th>3</th>\n",
              "      <td>3</td>\n",
              "      <td>Yuvraj</td>\n",
              "      <td>Male</td>\n",
              "      <td>22.0</td>\n",
              "      <td>Mumbai</td>\n",
              "      <td>Working Professional</td>\n",
              "      <td>Teacher</td>\n",
              "      <td>3.0</td>\n",
              "      <td>5.0</td>\n",
              "      <td>7.77</td>\n",
              "      <td>3.0</td>\n",
              "      <td>1.0</td>\n",
              "      <td>Less than 5 hours</td>\n",
              "      <td>Moderate</td>\n",
              "      <td>BBA</td>\n",
              "      <td>Yes</td>\n",
              "      <td>10.0</td>\n",
              "      <td>1.0</td>\n",
              "      <td>Yes</td>\n",
              "      <td>1</td>\n",
              "    </tr>\n",
              "    <tr>\n",
              "      <th>4</th>\n",
              "      <td>4</td>\n",
              "      <td>Rhea</td>\n",
              "      <td>Female</td>\n",
              "      <td>30.0</td>\n",
              "      <td>Kanpur</td>\n",
              "      <td>Working Professional</td>\n",
              "      <td>Business Analyst</td>\n",
              "      <td>3.0</td>\n",
              "      <td>1.0</td>\n",
              "      <td>7.77</td>\n",
              "      <td>3.0</td>\n",
              "      <td>1.0</td>\n",
              "      <td>5-6 hours</td>\n",
              "      <td>Unhealthy</td>\n",
              "      <td>BBA</td>\n",
              "      <td>Yes</td>\n",
              "      <td>9.0</td>\n",
              "      <td>4.0</td>\n",
              "      <td>Yes</td>\n",
              "      <td>0</td>\n",
              "    </tr>\n",
              "    <tr>\n",
              "      <th>...</th>\n",
              "      <td>...</td>\n",
              "      <td>...</td>\n",
              "      <td>...</td>\n",
              "      <td>...</td>\n",
              "      <td>...</td>\n",
              "      <td>...</td>\n",
              "      <td>...</td>\n",
              "      <td>...</td>\n",
              "      <td>...</td>\n",
              "      <td>...</td>\n",
              "      <td>...</td>\n",
              "      <td>...</td>\n",
              "      <td>...</td>\n",
              "      <td>...</td>\n",
              "      <td>...</td>\n",
              "      <td>...</td>\n",
              "      <td>...</td>\n",
              "      <td>...</td>\n",
              "      <td>...</td>\n",
              "      <td>...</td>\n",
              "    </tr>\n",
              "    <tr>\n",
              "      <th>140695</th>\n",
              "      <td>140695</td>\n",
              "      <td>Vidya</td>\n",
              "      <td>Female</td>\n",
              "      <td>18.0</td>\n",
              "      <td>Ahmedabad</td>\n",
              "      <td>Working Professional</td>\n",
              "      <td>Teacher</td>\n",
              "      <td>3.0</td>\n",
              "      <td>5.0</td>\n",
              "      <td>7.77</td>\n",
              "      <td>3.0</td>\n",
              "      <td>4.0</td>\n",
              "      <td>5-6 hours</td>\n",
              "      <td>Unhealthy</td>\n",
              "      <td>Class 12</td>\n",
              "      <td>No</td>\n",
              "      <td>2.0</td>\n",
              "      <td>4.0</td>\n",
              "      <td>Yes</td>\n",
              "      <td>1</td>\n",
              "    </tr>\n",
              "    <tr>\n",
              "      <th>140696</th>\n",
              "      <td>140696</td>\n",
              "      <td>Lata</td>\n",
              "      <td>Female</td>\n",
              "      <td>41.0</td>\n",
              "      <td>Hyderabad</td>\n",
              "      <td>Working Professional</td>\n",
              "      <td>Content Writer</td>\n",
              "      <td>3.0</td>\n",
              "      <td>5.0</td>\n",
              "      <td>7.77</td>\n",
              "      <td>3.0</td>\n",
              "      <td>4.0</td>\n",
              "      <td>7-8 hours</td>\n",
              "      <td>Moderate</td>\n",
              "      <td>B.Tech</td>\n",
              "      <td>Yes</td>\n",
              "      <td>6.0</td>\n",
              "      <td>5.0</td>\n",
              "      <td>Yes</td>\n",
              "      <td>0</td>\n",
              "    </tr>\n",
              "    <tr>\n",
              "      <th>140697</th>\n",
              "      <td>140697</td>\n",
              "      <td>Aanchal</td>\n",
              "      <td>Female</td>\n",
              "      <td>24.0</td>\n",
              "      <td>Kolkata</td>\n",
              "      <td>Working Professional</td>\n",
              "      <td>Marketing Manager</td>\n",
              "      <td>3.0</td>\n",
              "      <td>3.0</td>\n",
              "      <td>7.77</td>\n",
              "      <td>3.0</td>\n",
              "      <td>1.0</td>\n",
              "      <td>More than 8 hours</td>\n",
              "      <td>Moderate</td>\n",
              "      <td>B.Com</td>\n",
              "      <td>No</td>\n",
              "      <td>4.0</td>\n",
              "      <td>4.0</td>\n",
              "      <td>No</td>\n",
              "      <td>0</td>\n",
              "    </tr>\n",
              "    <tr>\n",
              "      <th>140698</th>\n",
              "      <td>140698</td>\n",
              "      <td>Prachi</td>\n",
              "      <td>Female</td>\n",
              "      <td>49.0</td>\n",
              "      <td>Srinagar</td>\n",
              "      <td>Working Professional</td>\n",
              "      <td>Plumber</td>\n",
              "      <td>3.0</td>\n",
              "      <td>5.0</td>\n",
              "      <td>7.77</td>\n",
              "      <td>3.0</td>\n",
              "      <td>2.0</td>\n",
              "      <td>5-6 hours</td>\n",
              "      <td>Moderate</td>\n",
              "      <td>ME</td>\n",
              "      <td>Yes</td>\n",
              "      <td>10.0</td>\n",
              "      <td>1.0</td>\n",
              "      <td>No</td>\n",
              "      <td>0</td>\n",
              "    </tr>\n",
              "    <tr>\n",
              "      <th>140699</th>\n",
              "      <td>140699</td>\n",
              "      <td>Sai</td>\n",
              "      <td>Male</td>\n",
              "      <td>27.0</td>\n",
              "      <td>Patna</td>\n",
              "      <td>Student</td>\n",
              "      <td>Teacher</td>\n",
              "      <td>4.0</td>\n",
              "      <td>3.0</td>\n",
              "      <td>9.24</td>\n",
              "      <td>1.0</td>\n",
              "      <td>3.0</td>\n",
              "      <td>Less than 5 hours</td>\n",
              "      <td>Healthy</td>\n",
              "      <td>BCA</td>\n",
              "      <td>Yes</td>\n",
              "      <td>2.0</td>\n",
              "      <td>3.0</td>\n",
              "      <td>Yes</td>\n",
              "      <td>1</td>\n",
              "    </tr>\n",
              "  </tbody>\n",
              "</table>\n",
              "<p>140700 rows × 20 columns</p>\n",
              "</div>"
            ],
            "text/plain": [
              "            id      Name  Gender   Age           City  \\\n",
              "0            0  Aaradhya  Female  49.0       Ludhiana   \n",
              "1            1     Vivan    Male  26.0       Varanasi   \n",
              "2            2    Yuvraj    Male  33.0  Visakhapatnam   \n",
              "3            3    Yuvraj    Male  22.0         Mumbai   \n",
              "4            4      Rhea  Female  30.0         Kanpur   \n",
              "...        ...       ...     ...   ...            ...   \n",
              "140695  140695     Vidya  Female  18.0      Ahmedabad   \n",
              "140696  140696      Lata  Female  41.0      Hyderabad   \n",
              "140697  140697   Aanchal  Female  24.0        Kolkata   \n",
              "140698  140698    Prachi  Female  49.0       Srinagar   \n",
              "140699  140699       Sai    Male  27.0          Patna   \n",
              "\n",
              "       Working Professional or Student         Profession  Academic Pressure  \\\n",
              "0                 Working Professional               Chef                3.0   \n",
              "1                 Working Professional            Teacher                3.0   \n",
              "2                              Student            Teacher                5.0   \n",
              "3                 Working Professional            Teacher                3.0   \n",
              "4                 Working Professional   Business Analyst                3.0   \n",
              "...                                ...                ...                ...   \n",
              "140695            Working Professional            Teacher                3.0   \n",
              "140696            Working Professional     Content Writer                3.0   \n",
              "140697            Working Professional  Marketing Manager                3.0   \n",
              "140698            Working Professional            Plumber                3.0   \n",
              "140699                         Student            Teacher                4.0   \n",
              "\n",
              "        Work Pressure  CGPA  Study Satisfaction  Job Satisfaction  \\\n",
              "0                 5.0  7.77                 3.0               2.0   \n",
              "1                 4.0  7.77                 3.0               3.0   \n",
              "2                 3.0  8.97                 2.0               3.0   \n",
              "3                 5.0  7.77                 3.0               1.0   \n",
              "4                 1.0  7.77                 3.0               1.0   \n",
              "...               ...   ...                 ...               ...   \n",
              "140695            5.0  7.77                 3.0               4.0   \n",
              "140696            5.0  7.77                 3.0               4.0   \n",
              "140697            3.0  7.77                 3.0               1.0   \n",
              "140698            5.0  7.77                 3.0               2.0   \n",
              "140699            3.0  9.24                 1.0               3.0   \n",
              "\n",
              "           Sleep Duration Dietary Habits    Degree  \\\n",
              "0       More than 8 hours        Healthy       BHM   \n",
              "1       Less than 5 hours      Unhealthy       LLB   \n",
              "2               5-6 hours        Healthy   B.Pharm   \n",
              "3       Less than 5 hours       Moderate       BBA   \n",
              "4               5-6 hours      Unhealthy       BBA   \n",
              "...                   ...            ...       ...   \n",
              "140695          5-6 hours      Unhealthy  Class 12   \n",
              "140696          7-8 hours       Moderate    B.Tech   \n",
              "140697  More than 8 hours       Moderate     B.Com   \n",
              "140698          5-6 hours       Moderate        ME   \n",
              "140699  Less than 5 hours        Healthy       BCA   \n",
              "\n",
              "       Have you ever had suicidal thoughts ?  Work/Study Hours  \\\n",
              "0                                         No               1.0   \n",
              "1                                        Yes               7.0   \n",
              "2                                        Yes               3.0   \n",
              "3                                        Yes              10.0   \n",
              "4                                        Yes               9.0   \n",
              "...                                      ...               ...   \n",
              "140695                                    No               2.0   \n",
              "140696                                   Yes               6.0   \n",
              "140697                                    No               4.0   \n",
              "140698                                   Yes              10.0   \n",
              "140699                                   Yes               2.0   \n",
              "\n",
              "        Financial Stress Family History of Mental Illness  Depression  \n",
              "0                    2.0                               No           0  \n",
              "1                    3.0                               No           1  \n",
              "2                    1.0                               No           1  \n",
              "3                    1.0                              Yes           1  \n",
              "4                    4.0                              Yes           0  \n",
              "...                  ...                              ...         ...  \n",
              "140695               4.0                              Yes           1  \n",
              "140696               5.0                              Yes           0  \n",
              "140697               4.0                               No           0  \n",
              "140698               1.0                               No           0  \n",
              "140699               3.0                              Yes           1  \n",
              "\n",
              "[140700 rows x 20 columns]"
            ]
          },
          "execution_count": 28,
          "metadata": {},
          "output_type": "execute_result"
        }
      ],
      "source": [
        "df_train"
      ]
    },
    {
      "cell_type": "code",
      "execution_count": 29,
      "metadata": {
        "id": "TqiNyu_Y6yKN"
      },
      "outputs": [],
      "source": [
        "df_train['Age'] = df_train['Age'].astype(int)\n",
        "df_train['Academic Pressure'] = df_train['Academic Pressure'].astype(int)\n",
        "df_train['Work Pressure'] = df_train['Work Pressure'].astype(int)\n",
        "df_train['Study Satisfaction'] = df_train['Study Satisfaction'].astype(int)\n",
        "df_train['Job Satisfaction'] = df_train['Job Satisfaction'].astype(int)\n",
        "df_train['Work/Study Hours'] = df_train['Work/Study Hours'].astype(int)\n",
        "df_train['Financial Stress'] = df_train['Financial Stress'].astype(int)"
      ]
    },
    {
      "cell_type": "code",
      "execution_count": 30,
      "metadata": {
        "colab": {
          "base_uri": "https://localhost:8080/",
          "height": 704
        },
        "id": "s89CrSwv8Hw-",
        "outputId": "be01a785-e179-4369-9092-a2a98ec0b0bb"
      },
      "outputs": [
        {
          "data": {
            "text/html": [
              "<div>\n",
              "<style scoped>\n",
              "    .dataframe tbody tr th:only-of-type {\n",
              "        vertical-align: middle;\n",
              "    }\n",
              "\n",
              "    .dataframe tbody tr th {\n",
              "        vertical-align: top;\n",
              "    }\n",
              "\n",
              "    .dataframe thead th {\n",
              "        text-align: right;\n",
              "    }\n",
              "</style>\n",
              "<table border=\"1\" class=\"dataframe\">\n",
              "  <thead>\n",
              "    <tr style=\"text-align: right;\">\n",
              "      <th></th>\n",
              "      <th>id</th>\n",
              "      <th>Name</th>\n",
              "      <th>Gender</th>\n",
              "      <th>Age</th>\n",
              "      <th>City</th>\n",
              "      <th>Working Professional or Student</th>\n",
              "      <th>Profession</th>\n",
              "      <th>Academic Pressure</th>\n",
              "      <th>Work Pressure</th>\n",
              "      <th>CGPA</th>\n",
              "      <th>Study Satisfaction</th>\n",
              "      <th>Job Satisfaction</th>\n",
              "      <th>Sleep Duration</th>\n",
              "      <th>Dietary Habits</th>\n",
              "      <th>Degree</th>\n",
              "      <th>Have you ever had suicidal thoughts ?</th>\n",
              "      <th>Work/Study Hours</th>\n",
              "      <th>Financial Stress</th>\n",
              "      <th>Family History of Mental Illness</th>\n",
              "      <th>Depression</th>\n",
              "    </tr>\n",
              "  </thead>\n",
              "  <tbody>\n",
              "    <tr>\n",
              "      <th>0</th>\n",
              "      <td>0</td>\n",
              "      <td>Aaradhya</td>\n",
              "      <td>Female</td>\n",
              "      <td>49</td>\n",
              "      <td>Ludhiana</td>\n",
              "      <td>Working Professional</td>\n",
              "      <td>Chef</td>\n",
              "      <td>3</td>\n",
              "      <td>5</td>\n",
              "      <td>7.77</td>\n",
              "      <td>3</td>\n",
              "      <td>2</td>\n",
              "      <td>More than 8 hours</td>\n",
              "      <td>Healthy</td>\n",
              "      <td>BHM</td>\n",
              "      <td>No</td>\n",
              "      <td>1</td>\n",
              "      <td>2</td>\n",
              "      <td>No</td>\n",
              "      <td>0</td>\n",
              "    </tr>\n",
              "    <tr>\n",
              "      <th>1</th>\n",
              "      <td>1</td>\n",
              "      <td>Vivan</td>\n",
              "      <td>Male</td>\n",
              "      <td>26</td>\n",
              "      <td>Varanasi</td>\n",
              "      <td>Working Professional</td>\n",
              "      <td>Teacher</td>\n",
              "      <td>3</td>\n",
              "      <td>4</td>\n",
              "      <td>7.77</td>\n",
              "      <td>3</td>\n",
              "      <td>3</td>\n",
              "      <td>Less than 5 hours</td>\n",
              "      <td>Unhealthy</td>\n",
              "      <td>LLB</td>\n",
              "      <td>Yes</td>\n",
              "      <td>7</td>\n",
              "      <td>3</td>\n",
              "      <td>No</td>\n",
              "      <td>1</td>\n",
              "    </tr>\n",
              "    <tr>\n",
              "      <th>2</th>\n",
              "      <td>2</td>\n",
              "      <td>Yuvraj</td>\n",
              "      <td>Male</td>\n",
              "      <td>33</td>\n",
              "      <td>Visakhapatnam</td>\n",
              "      <td>Student</td>\n",
              "      <td>Teacher</td>\n",
              "      <td>5</td>\n",
              "      <td>3</td>\n",
              "      <td>8.97</td>\n",
              "      <td>2</td>\n",
              "      <td>3</td>\n",
              "      <td>5-6 hours</td>\n",
              "      <td>Healthy</td>\n",
              "      <td>B.Pharm</td>\n",
              "      <td>Yes</td>\n",
              "      <td>3</td>\n",
              "      <td>1</td>\n",
              "      <td>No</td>\n",
              "      <td>1</td>\n",
              "    </tr>\n",
              "    <tr>\n",
              "      <th>3</th>\n",
              "      <td>3</td>\n",
              "      <td>Yuvraj</td>\n",
              "      <td>Male</td>\n",
              "      <td>22</td>\n",
              "      <td>Mumbai</td>\n",
              "      <td>Working Professional</td>\n",
              "      <td>Teacher</td>\n",
              "      <td>3</td>\n",
              "      <td>5</td>\n",
              "      <td>7.77</td>\n",
              "      <td>3</td>\n",
              "      <td>1</td>\n",
              "      <td>Less than 5 hours</td>\n",
              "      <td>Moderate</td>\n",
              "      <td>BBA</td>\n",
              "      <td>Yes</td>\n",
              "      <td>10</td>\n",
              "      <td>1</td>\n",
              "      <td>Yes</td>\n",
              "      <td>1</td>\n",
              "    </tr>\n",
              "    <tr>\n",
              "      <th>4</th>\n",
              "      <td>4</td>\n",
              "      <td>Rhea</td>\n",
              "      <td>Female</td>\n",
              "      <td>30</td>\n",
              "      <td>Kanpur</td>\n",
              "      <td>Working Professional</td>\n",
              "      <td>Business Analyst</td>\n",
              "      <td>3</td>\n",
              "      <td>1</td>\n",
              "      <td>7.77</td>\n",
              "      <td>3</td>\n",
              "      <td>1</td>\n",
              "      <td>5-6 hours</td>\n",
              "      <td>Unhealthy</td>\n",
              "      <td>BBA</td>\n",
              "      <td>Yes</td>\n",
              "      <td>9</td>\n",
              "      <td>4</td>\n",
              "      <td>Yes</td>\n",
              "      <td>0</td>\n",
              "    </tr>\n",
              "    <tr>\n",
              "      <th>...</th>\n",
              "      <td>...</td>\n",
              "      <td>...</td>\n",
              "      <td>...</td>\n",
              "      <td>...</td>\n",
              "      <td>...</td>\n",
              "      <td>...</td>\n",
              "      <td>...</td>\n",
              "      <td>...</td>\n",
              "      <td>...</td>\n",
              "      <td>...</td>\n",
              "      <td>...</td>\n",
              "      <td>...</td>\n",
              "      <td>...</td>\n",
              "      <td>...</td>\n",
              "      <td>...</td>\n",
              "      <td>...</td>\n",
              "      <td>...</td>\n",
              "      <td>...</td>\n",
              "      <td>...</td>\n",
              "      <td>...</td>\n",
              "    </tr>\n",
              "    <tr>\n",
              "      <th>140695</th>\n",
              "      <td>140695</td>\n",
              "      <td>Vidya</td>\n",
              "      <td>Female</td>\n",
              "      <td>18</td>\n",
              "      <td>Ahmedabad</td>\n",
              "      <td>Working Professional</td>\n",
              "      <td>Teacher</td>\n",
              "      <td>3</td>\n",
              "      <td>5</td>\n",
              "      <td>7.77</td>\n",
              "      <td>3</td>\n",
              "      <td>4</td>\n",
              "      <td>5-6 hours</td>\n",
              "      <td>Unhealthy</td>\n",
              "      <td>Class 12</td>\n",
              "      <td>No</td>\n",
              "      <td>2</td>\n",
              "      <td>4</td>\n",
              "      <td>Yes</td>\n",
              "      <td>1</td>\n",
              "    </tr>\n",
              "    <tr>\n",
              "      <th>140696</th>\n",
              "      <td>140696</td>\n",
              "      <td>Lata</td>\n",
              "      <td>Female</td>\n",
              "      <td>41</td>\n",
              "      <td>Hyderabad</td>\n",
              "      <td>Working Professional</td>\n",
              "      <td>Content Writer</td>\n",
              "      <td>3</td>\n",
              "      <td>5</td>\n",
              "      <td>7.77</td>\n",
              "      <td>3</td>\n",
              "      <td>4</td>\n",
              "      <td>7-8 hours</td>\n",
              "      <td>Moderate</td>\n",
              "      <td>B.Tech</td>\n",
              "      <td>Yes</td>\n",
              "      <td>6</td>\n",
              "      <td>5</td>\n",
              "      <td>Yes</td>\n",
              "      <td>0</td>\n",
              "    </tr>\n",
              "    <tr>\n",
              "      <th>140697</th>\n",
              "      <td>140697</td>\n",
              "      <td>Aanchal</td>\n",
              "      <td>Female</td>\n",
              "      <td>24</td>\n",
              "      <td>Kolkata</td>\n",
              "      <td>Working Professional</td>\n",
              "      <td>Marketing Manager</td>\n",
              "      <td>3</td>\n",
              "      <td>3</td>\n",
              "      <td>7.77</td>\n",
              "      <td>3</td>\n",
              "      <td>1</td>\n",
              "      <td>More than 8 hours</td>\n",
              "      <td>Moderate</td>\n",
              "      <td>B.Com</td>\n",
              "      <td>No</td>\n",
              "      <td>4</td>\n",
              "      <td>4</td>\n",
              "      <td>No</td>\n",
              "      <td>0</td>\n",
              "    </tr>\n",
              "    <tr>\n",
              "      <th>140698</th>\n",
              "      <td>140698</td>\n",
              "      <td>Prachi</td>\n",
              "      <td>Female</td>\n",
              "      <td>49</td>\n",
              "      <td>Srinagar</td>\n",
              "      <td>Working Professional</td>\n",
              "      <td>Plumber</td>\n",
              "      <td>3</td>\n",
              "      <td>5</td>\n",
              "      <td>7.77</td>\n",
              "      <td>3</td>\n",
              "      <td>2</td>\n",
              "      <td>5-6 hours</td>\n",
              "      <td>Moderate</td>\n",
              "      <td>ME</td>\n",
              "      <td>Yes</td>\n",
              "      <td>10</td>\n",
              "      <td>1</td>\n",
              "      <td>No</td>\n",
              "      <td>0</td>\n",
              "    </tr>\n",
              "    <tr>\n",
              "      <th>140699</th>\n",
              "      <td>140699</td>\n",
              "      <td>Sai</td>\n",
              "      <td>Male</td>\n",
              "      <td>27</td>\n",
              "      <td>Patna</td>\n",
              "      <td>Student</td>\n",
              "      <td>Teacher</td>\n",
              "      <td>4</td>\n",
              "      <td>3</td>\n",
              "      <td>9.24</td>\n",
              "      <td>1</td>\n",
              "      <td>3</td>\n",
              "      <td>Less than 5 hours</td>\n",
              "      <td>Healthy</td>\n",
              "      <td>BCA</td>\n",
              "      <td>Yes</td>\n",
              "      <td>2</td>\n",
              "      <td>3</td>\n",
              "      <td>Yes</td>\n",
              "      <td>1</td>\n",
              "    </tr>\n",
              "  </tbody>\n",
              "</table>\n",
              "<p>140700 rows × 20 columns</p>\n",
              "</div>"
            ],
            "text/plain": [
              "            id      Name  Gender  Age           City  \\\n",
              "0            0  Aaradhya  Female   49       Ludhiana   \n",
              "1            1     Vivan    Male   26       Varanasi   \n",
              "2            2    Yuvraj    Male   33  Visakhapatnam   \n",
              "3            3    Yuvraj    Male   22         Mumbai   \n",
              "4            4      Rhea  Female   30         Kanpur   \n",
              "...        ...       ...     ...  ...            ...   \n",
              "140695  140695     Vidya  Female   18      Ahmedabad   \n",
              "140696  140696      Lata  Female   41      Hyderabad   \n",
              "140697  140697   Aanchal  Female   24        Kolkata   \n",
              "140698  140698    Prachi  Female   49       Srinagar   \n",
              "140699  140699       Sai    Male   27          Patna   \n",
              "\n",
              "       Working Professional or Student         Profession  Academic Pressure  \\\n",
              "0                 Working Professional               Chef                  3   \n",
              "1                 Working Professional            Teacher                  3   \n",
              "2                              Student            Teacher                  5   \n",
              "3                 Working Professional            Teacher                  3   \n",
              "4                 Working Professional   Business Analyst                  3   \n",
              "...                                ...                ...                ...   \n",
              "140695            Working Professional            Teacher                  3   \n",
              "140696            Working Professional     Content Writer                  3   \n",
              "140697            Working Professional  Marketing Manager                  3   \n",
              "140698            Working Professional            Plumber                  3   \n",
              "140699                         Student            Teacher                  4   \n",
              "\n",
              "        Work Pressure  CGPA  Study Satisfaction  Job Satisfaction  \\\n",
              "0                   5  7.77                   3                 2   \n",
              "1                   4  7.77                   3                 3   \n",
              "2                   3  8.97                   2                 3   \n",
              "3                   5  7.77                   3                 1   \n",
              "4                   1  7.77                   3                 1   \n",
              "...               ...   ...                 ...               ...   \n",
              "140695              5  7.77                   3                 4   \n",
              "140696              5  7.77                   3                 4   \n",
              "140697              3  7.77                   3                 1   \n",
              "140698              5  7.77                   3                 2   \n",
              "140699              3  9.24                   1                 3   \n",
              "\n",
              "           Sleep Duration Dietary Habits    Degree  \\\n",
              "0       More than 8 hours        Healthy       BHM   \n",
              "1       Less than 5 hours      Unhealthy       LLB   \n",
              "2               5-6 hours        Healthy   B.Pharm   \n",
              "3       Less than 5 hours       Moderate       BBA   \n",
              "4               5-6 hours      Unhealthy       BBA   \n",
              "...                   ...            ...       ...   \n",
              "140695          5-6 hours      Unhealthy  Class 12   \n",
              "140696          7-8 hours       Moderate    B.Tech   \n",
              "140697  More than 8 hours       Moderate     B.Com   \n",
              "140698          5-6 hours       Moderate        ME   \n",
              "140699  Less than 5 hours        Healthy       BCA   \n",
              "\n",
              "       Have you ever had suicidal thoughts ?  Work/Study Hours  \\\n",
              "0                                         No                 1   \n",
              "1                                        Yes                 7   \n",
              "2                                        Yes                 3   \n",
              "3                                        Yes                10   \n",
              "4                                        Yes                 9   \n",
              "...                                      ...               ...   \n",
              "140695                                    No                 2   \n",
              "140696                                   Yes                 6   \n",
              "140697                                    No                 4   \n",
              "140698                                   Yes                10   \n",
              "140699                                   Yes                 2   \n",
              "\n",
              "        Financial Stress Family History of Mental Illness  Depression  \n",
              "0                      2                               No           0  \n",
              "1                      3                               No           1  \n",
              "2                      1                               No           1  \n",
              "3                      1                              Yes           1  \n",
              "4                      4                              Yes           0  \n",
              "...                  ...                              ...         ...  \n",
              "140695                 4                              Yes           1  \n",
              "140696                 5                              Yes           0  \n",
              "140697                 4                               No           0  \n",
              "140698                 1                               No           0  \n",
              "140699                 3                              Yes           1  \n",
              "\n",
              "[140700 rows x 20 columns]"
            ]
          },
          "execution_count": 30,
          "metadata": {},
          "output_type": "execute_result"
        }
      ],
      "source": [
        "df_train"
      ]
    },
    {
      "cell_type": "code",
      "execution_count": 31,
      "metadata": {
        "colab": {
          "base_uri": "https://localhost:8080/",
          "height": 458
        },
        "id": "rElEssNEa342",
        "outputId": "32a5e986-4542-453a-a1ac-33ba38639c16"
      },
      "outputs": [
        {
          "data": {
            "text/plain": [
              "0          No\n",
              "1         Yes\n",
              "2         Yes\n",
              "3         Yes\n",
              "4         Yes\n",
              "         ... \n",
              "140695     No\n",
              "140696    Yes\n",
              "140697     No\n",
              "140698    Yes\n",
              "140699    Yes\n",
              "Name: Have you ever had suicidal thoughts ?, Length: 140700, dtype: object"
            ]
          },
          "execution_count": 31,
          "metadata": {},
          "output_type": "execute_result"
        }
      ],
      "source": [
        "df_train['Have you ever had suicidal thoughts ?']"
      ]
    },
    {
      "cell_type": "code",
      "execution_count": 32,
      "metadata": {
        "id": "Dk0j0977M1M0"
      },
      "outputs": [],
      "source": [
        "df_train.to_csv('./data/cleaned_data.csv', index=False)"
      ]
    }
  ],
  "metadata": {
    "colab": {
      "provenance": []
    },
    "kernelspec": {
      "display_name": "venv",
      "language": "python",
      "name": "python3"
    },
    "language_info": {
      "codemirror_mode": {
        "name": "ipython",
        "version": 3
      },
      "file_extension": ".py",
      "mimetype": "text/x-python",
      "name": "python",
      "nbconvert_exporter": "python",
      "pygments_lexer": "ipython3",
      "version": "3.13.1"
    }
  },
  "nbformat": 4,
  "nbformat_minor": 0
}
